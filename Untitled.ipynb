{
 "cells": [
  {
   "cell_type": "code",
   "execution_count": 2,
   "id": "59284922-406d-4493-9e54-9d6a25595521",
   "metadata": {},
   "outputs": [
    {
     "name": "stdout",
     "output_type": "stream",
     "text": [
      "Loaded data/sales_data.csv as sales: 20 rows, 7 columns\n",
      "Selected 4 columns from sales\n",
      "Filtered products: 12 rows match condition\n",
      "Grouped by ['category']: 3 groups\n",
      "\n",
      "Descriptive Statistics for expensive_products:\n",
      "            price  quantity\n",
      "count   12.000000   12.0000\n",
      "mean   354.990000    1.5000\n",
      "std    314.136623    0.6742\n",
      "min     79.990000    1.0000\n",
      "25%     99.990000    1.0000\n",
      "50%    224.990000    1.0000\n",
      "75%    599.990000    2.0000\n",
      "max    899.990000    3.0000\n",
      "\n",
      "Dataset Info for category_summary:\n",
      "<class 'pandas.core.frame.DataFrame'>\n",
      "RangeIndex: 3 entries, 0 to 2\n",
      "Data columns (total 3 columns):\n",
      " #   Column        Non-Null Count  Dtype  \n",
      "---  ------        --------------  -----  \n",
      " 0   category      3 non-null      object \n",
      " 1   quantity_sum  3 non-null      int64  \n",
      " 2   price_mean    3 non-null      float64\n",
      "dtypes: float64(1), int64(1), object(1)\n",
      "memory usage: 204.0+ bytes\n"
     ]
    }
   ],
   "source": [
    "# Basic Noeta Demo Script\n",
    "# This demonstrates core data manipulation features\n",
    "\n",
    "# Load data\n",
    "load \"data/sales_data.csv\" as sales\n",
    "\n",
    "# Basic operations\n",
    "select sales {product_id, category, price, quantity} as products\n",
    "filter products [price > 50] as expensive_products\n",
    "\n",
    "# Aggregation\n",
    "groupby sales by: {category} agg: {sum:quantity, avg:price} as category_summary\n",
    "\n",
    "# Analysis\n",
    "describe expensive_products\n",
    "info category_summary\n",
    "\n",
    "# Visualization\n",
    "boxplot expensive_products columns: {price}"
   ]
  },
  {
   "cell_type": "code",
   "execution_count": null,
   "id": "bc92c718-b4fc-4587-8240-5aa396261552",
   "metadata": {},
   "outputs": [],
   "source": [
    "# Basic Noeta Demo Script\n",
    "# This demonstrates core data manipulation features\n",
    "\n",
    "# Load data\n",
    "load \"data/sales_data.csv\" as sales\n",
    "\n",
    "# Basic operations\n",
    "select sales {product_id, category, price, quantity} as products\n",
    "filter products [price > 50] as expensive_products\n",
    "\n",
    "# Aggregation\n",
    "groupby sales by: {category} agg: {sum:quantity, avg:price} as category_summary\n",
    "\n",
    "# Analysis\n",
    "describe expensive_products\n",
    "info category_summary\n",
    "\n",
    "# Visualization\n",
    "boxplot expensive_products columns: {price}"
   ]
  }
 ],
 "metadata": {
  "kernelspec": {
   "display_name": "Noeta",
   "language": "noeta",
   "name": "noeta"
  },
  "language_info": {
   "codemirror_mode": "python",
   "file_extension": ".noeta",
   "mimetype": "text/x-noeta",
   "name": "noeta",
   "pygments_lexer": "python"
  }
 },
 "nbformat": 4,
 "nbformat_minor": 5
}
